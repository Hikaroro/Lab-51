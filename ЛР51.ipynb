{
 "cells": [
  {
   "cell_type": "markdown",
   "id": "01ab9d7b-0661-48d0-abe5-85f039927aee",
   "metadata": {
    "tags": []
   },
   "source": [
    "# Лабораторная работа 51"
   ]
  },
  {
   "cell_type": "markdown",
   "id": "527e3933-f455-4268-8091-20147dbaf09b",
   "metadata": {},
   "source": [
    "### Цель лабораторной работы\n",
    "\n",
    "Ознакомление с теоретическими основами эффекта Зеемана, исследование расщепления спектральных линий в магнитном поле, определение с помощью спектрограмм величины удельного заряда электрона, приобретение навыков работы с автоматизированной системой сбора и обработки информации."
   ]
  },
  {
   "cell_type": "markdown",
   "id": "11bf9854-fc53-4d48-a5d1-716a92d2c8fa",
   "metadata": {},
   "source": [
    "### Экспериментальное оборудование\n",
    "Комбинированный учебный комплекс ФКЛ-2М-1К, имеющим сопряжение с ПК"
   ]
  },
  {
   "cell_type": "markdown",
   "id": "4f01e6da-7b5f-41f8-a4ed-addd578c0237",
   "metadata": {},
   "source": [
    "### Конспект в формате ответов на контрольные вопросы"
   ]
  },
  {
   "cell_type": "markdown",
   "id": "a46e23c7-4369-4539-8d88-853ced7df65d",
   "metadata": {},
   "source": [
    "#### 1. Какие виды связи существуют в сложных атомах? В чем их различие?\n",
    "Связь Рессель-Саундерса: описывает взаимодействие между спинами и орбитальными моментами электрона в атоме. В рамках этой модели учитывается сумма орбитальных моментов и и сумма спинов всех электронов. Она наиболее актуальна для легких атомов, где взаимодействия между электронами относительно слабы.\n",
    "\n",
    "j-j связь: относится к более сложному взаимодействию, где учитываются индивидуальные спины и орбитальные моменты каждого электрона. В этой модели каждый электрон рассматривается отдельно, и общий момент атома определяется как сумма отдельных спин-орбитальных моментов. Эта модель более актуальна для тяжелых атомов, где взаимодействие между электронами становится более значительным\n"
   ]
  },
  {
   "cell_type": "markdown",
   "id": "54ee207c-c502-48fc-816c-99fc4d1a0c4e",
   "metadata": {},
   "source": [
    "#### 2. Каким образом и для чего вводится понятие терма атома? Что оно означает?\n",
    "\n",
    "Понятие терм атома вводится при нормальной связи для полной характеристики энергетического состояния всего атома в целом. Термы принято обозначать символами  $^{\\nu}(L)_J$ , где $L$ - символ состояния; $\\nu = 2S+1$ - мультиплетность, $J$ - квантовое число полного момента.\n"
   ]
  },
  {
   "cell_type": "markdown",
   "id": "b554138d-e7cc-4136-a30c-620fbc17699b",
   "metadata": {},
   "source": [
    "#### 3. У некоторого атома значение результирующего квантового числа S спинового момента равно 2. При этом значение квантового числа L результирующего орбитального момента равно 3. Написать все возможные термы.\n",
    "$$ν=2S+1=2*2+1=5$$\n",
    "$$J = L + S, L + S - 1, …, |L - S|$$\n",
    "$$J=5; 4; 3; 2; 1$$\n",
    "$$^5(F)_1; ^5(F)_2; ^5(F)_3; ^5(F)_4; ^5(F)_5;$$  \n"
   ]
  },
  {
   "cell_type": "markdown",
   "id": "31f57bc4-284a-411d-9195-31fc9a041667",
   "metadata": {},
   "source": [
    "#### 4. Каков физический смысл «правил отбора»? Возможен ли в принципе переход с ΔL=2?\n",
    "\n",
    "Правила отбора опреде­ля­ют воз­мож­ные кван­то­вые пе­ре­хо­ды для ато­мов, мо­ле­кул, атом­ных ядер, взаи­мо­дей­ст­вую­щих эле­мен­тар­ных час­тиц и дру­гих кван­то­вых сис­тем. Они ус­та­нав­ли­ва­ют, ка­кие кван­то­вые пе­ре­хо­ды раз­ре­ше­ны (ве­ро­ят­ность пе­ре­хо­да ве­ли­ка), а ка­кие за­пре­ще­ны стро­го (ве­ро­ят­ность пе­ре­хо­да рав­на ну­лю) или при­бли­жён­но (ве­ро­ят­ность пе­ре­хо­да ма­ла). При ха­рак­те­ри­сти­ке со­стоя­ний сис­те­мы с по­мо­щью кван­то­вых чи­сел правила отбора оп­ре­де­ля­ют воз­мож­ные из­ме­не­ния этих чи­сел при рас­смат­ри­вае­мом пе­ре­хо­де. Эмпирически было установлено, что при нормальной связи в сложных атомах правила отбора для квантовых чисел $L, S, J$ таковы: $\\Delta L = 0,\\pm 1$;  $\\Delta S = 0$;  $\\Delta J = 0 \\pm 1$"
   ]
  },
  {
   "cell_type": "markdown",
   "id": "1404a880-7ae2-402d-8e28-c0ee6b21f83f",
   "metadata": {},
   "source": [
    "\n",
    "5 Какова связь магнитного момента с механическим моментом количества движения атома? Что называется гиромагнитным отношением?\n",
    "\n",
    "Электрон, движущийся по орбите, наряду с механическим моментом количества движения обладает и магнитным моментом. Движение электрона по орбите возбуждает в окружающем пространстве магнитное поле, равное полю магнита с моментом $\\vec{p_m}=IS\\vec{n}$ \n",
    "\n",
    "Двигаясь по круговой орбите радиуса r со скоростью υ, частица с зарядом q совершает один оборот за время $Δt=2πr$, и создает эффективный  круговой ток  $I= \\frac{∆q}{∆t}= \\frac{q v}{2πr}$.\n",
    "\n",
    "Площадь  такого  тока $S = πr2$, а создаваемый им магнитный момент по модулю равен: $p_m=IS= \\frac{q v}{r2}$.\n",
    "\n",
    "С учетом направления векторов, движущаяся заряженная частица обладает магнитным моментом: $\\vec{p_m}= \\frac{q}{2}[\\vec r,\\vec v]$\n",
    "\n",
    "Учитывая момент импульса частицы  $\\vec{M_l}= [\\vec r,\\vec p]=m[\\vec r,\\vec v]$, получаем $\\vec{p_m}= \\frac{q}{2m}\\vec{M_l}$\n",
    "\n",
    "Эта формула говорит о том, что магнитный момент  заряженной  микрочастицы  будет  квантоваться  вместе  с  ее  моментом  импульса. Для электрона:\n",
    "$\\hat{\\vec{p_m}}= -\\frac{e}{2m_e}\\hat{\\vec{M_l}}$, где   $\\frac{p_m}{M_l}=-\\frac{e}{2m_e}$   - гиромагнитное отношение.\n"
   ]
  },
  {
   "cell_type": "markdown",
   "id": "e4c74f60-883b-474a-81d9-57baee8b1f06",
   "metadata": {},
   "source": [
    "#### 6.  Получите выражение (15) для магнетона Бора.\n",
    "Известно, что кольцо площадью $S$, по которому течет ток $I$ обладает магнитным моментом: $M = ISn$ (1), гlе $n$ - вектор нормали к плоскости кольца, зависящий от направления тока. В классической модели атома электрон, вращающийся по орбите, создает ток: $I={e_c \\over t} = {e_c \\over 2\\pi R_n / \\nu_n} = {e_c \\nu_n \\over 2\\pi R_n}$ (2)\n",
    "Тогда, магнитный момент (1) в зависимости от энергетического уровня $n$ можно легко получить, используя выражения $R_n = 4\\pi \\varepsilon_0 {n^2\\hslash^2 \\over e_{c}^2 m_e}$ и $\\nu_n = {1 \\over 4\\pi \\varepsilon_0}{e_{c}^2 \\over n\\hslash}$: $|M| = IS = {e_c\\nu_n \\over 2\\pi R_n}\\pi R_{n}^2 = {e_c \\over 2}\\nu_n R_n = n{e_c \\hslash \\over 2m_e}$ \n",
    "\n",
    "Таким образом, элементарный (минимальный) магнитный момент, создаваемый электроном на первой орбите в атоме водорода, так называемый магнетон Бора, имеет вид: $\\mu_Б = {e_c\\hslash \\over 2 m_e}$, который в единицах в СИ примерно равен $9.274 * 10^{-24} Дж/Тл$."
   ]
  },
  {
   "cell_type": "markdown",
   "id": "4cf9e199-6f06-4fe5-9f57-4b0d751fddd3",
   "metadata": {},
   "source": [
    "#### 7. Приведите соотношения между полным магнитным моментом атома μ и полным механическим моментом — MJ. Что такое фактор Ланде?\n",
    "Вследствие удвоенного магнетизма спина гиромагнитное отношение полных моментов оказывается значительно более сложным. Оно зависит от квантовых чисел L, S и J. Соответствующий расчет, проводимый в квантовой теории, позволил найти магнитный момент μ и его проекцию на ось Z: $\\mu= -\\mu_Бg\\sqrt{J(J+1)}$\n",
    "\n",
    "$\\mu_z= -\\mu_Бgm_J$,\n",
    "\n",
    "$m_J=J, J-1, …, -J,$\n",
    "\n",
    "где g-множитель (или фактор) Ланде: $g= \\frac{3}{2}+\\frac{S(S+1)-L(L+1)}{2J(J+1)}$     \n"
   ]
  },
  {
   "cell_type": "markdown",
   "id": "1f815eec-3463-44b3-9f97-a7de50f97afd",
   "metadata": {},
   "source": [
    "#### 8.  Что называется простым эффектом Зеемана, сложным эффектом Зеемана? Простой и сложный эффект Зеемана с точки зрения квантовой теории. \n",
    "\n",
    "Расщепление уровней энергии и спектральных линий во внешнем магнитном поле получило название эффекта Зеемана.\n",
    "\n",
    "Простым эффектом Зеемана называют эффект, в котором спектральная линия расщепляется на три компоненты (при наблюдении перпендикулярно магнитному полю). Простой эффект присущ спектральным линиям, не имеющим тонкой структуры.\n",
    "\n",
    "Сложным Эффектом Зеемана называют эффект, когда спектральная линия от источника в магнитном поле расщепляется на число компонент более трех."
   ]
  },
  {
   "cell_type": "markdown",
   "id": "01c045fe-3cf4-471d-8df8-b0ca604e95be",
   "metadata": {},
   "source": [
    "#### 9. С помощью диаграмм (рисунок 14) объясните получаемые с помощью учебной установки спектрограммы линии ртути 579,066 нм в отсутствие поля и при приложении магнитного поля.\n",
    "В отсутствие поля на спектрограмме наблюдается размытый широкий пик, с центром λ=579,066 нм. При включении магнитного поля появляются три пика. Это как раз соответствует схеме расщепления по простому эффекту Зеемана, возникающему при переходе между синглетными уровнями $6^1D_2 → 6^1P_1$\n"
   ]
  },
  {
   "cell_type": "markdown",
   "id": "c2a5ebc5-b140-40a1-a4ed-11d0d5a4821b",
   "metadata": {},
   "source": [
    "#### 10. С помощью диаграмм (рисунок 16) объясните получаемые с помощью учебной установки спектрограммы зеленой линии ртути 546,074 нм в отсутствие поля и при приложении магнитного поля.\n",
    "\n",
    "На зеленой линии ртути длиной волны 546,074 нм при переходе $7^3S_1 \\to 6^3P_2$ можно наблюдать сложный переход Зеемана.\n",
    "В слабом магнитном поле верхний уровень расщепляется на 3 подуровня, нижний на 5 подуровней в соответствии с квантовым числом $m_J$ проекции момента импульса атома. Переход $m_J=0 \\to m_j=0$ соответствует несмещенной линии $\\lambda_0 = 546,074$ нм.\n",
    "Таким образом, с учетом правил отбора получаем 9 компонент. Экспериментальное смещение того или иного компонента будет определяться как $\\Delta \\lambda_0 =\\lambda`-\\lambda_0$ , где $\\lambda_0$ - − несмещенная линия, соответствующая пере ходу $m_J=0 \\to m_j=0$, $\\lambda`$ - положение данного пика на спектрограмме."
   ]
  },
  {
   "cell_type": "markdown",
   "id": "e3cdf9ab-6089-483f-98a7-ecc24c2f1899",
   "metadata": {
    "slideshow": {
     "slide_type": "fragment"
    },
    "tags": []
   },
   "source": [
    "## Предпроцессинг данных и подключение библиотек"
   ]
  },
  {
   "cell_type": "markdown",
   "id": "ba2d4c98-af53-46e4-96ca-93d56820a9ea",
   "metadata": {
    "tags": []
   },
   "source": [
    "Код подключает необходимые библиотеки и проводит обработку данных из таблиц с данными, полученными при эксперименте."
   ]
  },
  {
   "cell_type": "code",
   "execution_count": 125,
   "id": "d76d8981-499d-4acb-b2f5-5ce9077d4f7c",
   "metadata": {
    "tags": []
   },
   "outputs": [],
   "source": [
    "from csv import *\n",
    "import pandas as pd\n",
    "import matplotlib.pyplot as plt\n",
    "import numpy as np\n",
    "from scipy.interpolate import make_interp_spline\n",
    "\n",
    "\n",
    "def file_read(path):\n",
    "    with open(path, 'r') as file:\n",
    "        data = file.readlines()\n",
    "    data[0] = data[0][3:]\n",
    "    #print(data)\n",
    "    #data = data[1:]\n",
    "    for i in range(len(data)):\n",
    "        data[i] = data[i].replace(',','.')\n",
    "        data[i] = data[i].split(';')\n",
    "        for j in range(len(data[i])):\n",
    "            if(data[i][j] != '' and data[i][j]!='\\n'): \n",
    "                data[i][j] = float(data[i][j])\n",
    "            else:\n",
    "                data[i][j] = ''\n",
    "    #print(data)\n",
    "    return data"
   ]
  },
  {
   "cell_type": "markdown",
   "id": "e108ed0b-791a-4e45-b905-5a9ec1480dc7",
   "metadata": {},
   "source": [
    "## Простой эффект Зеемана"
   ]
  },
  {
   "cell_type": "markdown",
   "id": "b8ac37f6-527e-4e94-a91b-12562cb629da",
   "metadata": {},
   "source": [
    "Считывание данных из файла:"
   ]
  },
  {
   "cell_type": "code",
   "execution_count": 128,
   "id": "01b3d132-ae23-4836-9321-4c7f9957b6ec",
   "metadata": {
    "tags": []
   },
   "outputs": [],
   "source": [
    "table = file_read(\"изм1.csv\")\n",
    "table = np.array(table)\n",
    "table = table.transpose()\n",
    "table = table.tolist()"
   ]
  },
  {
   "cell_type": "markdown",
   "id": "4caa58d1-feaa-4b2b-b704-328558d2661c",
   "metadata": {},
   "source": [
    "Поиск $\\lambda_0$, $\\lambda_л$, $\\lambda_п$:"
   ]
  },
  {
   "cell_type": "code",
   "execution_count": 130,
   "id": "1b9e8386-56ad-4ca4-ad67-d47b6b8da150",
   "metadata": {
    "tags": []
   },
   "outputs": [
    {
     "name": "stdout",
     "output_type": "stream",
     "text": [
      "[579.0552, 579.066, 579.0772, 579.0776]\n"
     ]
    }
   ],
   "source": [
    "lambdas = []\n",
    "for i in range(len(table[0])):\n",
    "    if(i < 20):\n",
    "        f = all([table[1][i] >= x for x in table[1][:i+20]])\n",
    "    elif(i > len(table[0])-20):\n",
    "        f = all([table[1][i] >= x for x in table[1][i-20:]])\n",
    "    else:\n",
    "        f = all([table[1][i] >= x for x in table[1][i-20:i+20]])\n",
    "    if(f == True): lambdas.append(table[0][i])\n",
    "lambdas = list(set(lambdas))\n",
    "lambdas.sort()\n",
    "print(lambdas)"
   ]
  },
  {
   "cell_type": "code",
   "execution_count": 131,
   "id": "7859a767-c175-417e-8de4-3cf36647befc",
   "metadata": {
    "tags": []
   },
   "outputs": [
    {
     "data": {
      "text/plain": [
       "[<matplotlib.lines.Line2D at 0x17eef3e0050>]"
      ]
     },
     "execution_count": 131,
     "metadata": {},
     "output_type": "execute_result"
    },
    {
     "data": {
      "image/png": "[encoded data removed]",
      "text/plain": [
       "<Figure size 640x480 with 1 Axes>"
      ]
     },
     "metadata": {},
     "output_type": "display_data"
    }
   ],
   "source": [
    "plt.figure()\n",
    "plt.plot(table[0][70:160], table[1][70:160])"
   ]
  },
  {
   "cell_type": "markdown",
   "id": "8f05edff-77f7-4023-a4cf-9a36afee47e8",
   "metadata": {},
   "source": [
    "Мы получили 4 значения, но на графике видно 3 локальных максимума. Это могло произойти из-за того, что при каких-то двух значениях длины волны одинаковая интенсивность и эти значения недалеко друг от друга, усредним эти 2 значения длин волн."
   ]
  },
  {
   "cell_type": "code",
   "execution_count": 133,
   "id": "f6df748c-fdc4-4a48-8a36-4ad000104e58",
   "metadata": {
    "tags": []
   },
   "outputs": [
    {
     "name": "stdout",
     "output_type": "stream",
     "text": [
      "[579.0552, 579.066, 579.0774]\n"
     ]
    }
   ],
   "source": [
    "lambdas[2] = round((lambdas[2]+lambdas[3])/2,4)\n",
    "lambdas = lambdas[:-1]\n",
    "print(lambdas)"
   ]
  },
  {
   "cell_type": "markdown",
   "id": "24377bf2-19b0-44d3-9f8e-70e52621bd88",
   "metadata": {},
   "source": [
    "$\\lambda_л=579,0552$, $\\lambda_0=579,066$, $\\lambda_п=579,0774$"
   ]
  },
  {
   "cell_type": "markdown",
   "id": "12e6d8ef-dbeb-44d9-bf26-4377bb80e5cc",
   "metadata": {},
   "source": [
    "Расчёт экспериментального значения величины Лоренцевого смещения, $\\Delta\\lambda_л$ и $\\Delta\\lambda_g$:"
   ]
  },
  {
   "cell_type": "code",
   "execution_count": 136,
   "id": "311819e9-3be3-43e0-b3b6-f44df4c5fdf8",
   "metadata": {
    "tags": []
   },
   "outputs": [
    {
     "name": "stdout",
     "output_type": "stream",
     "text": [
      "левое = 0.0108 , правое = 0.0114\n"
     ]
    }
   ],
   "source": [
    "dlambda_l = round(lambdas[1]-lambdas[0],4)\n",
    "dlambda_r = round(lambdas[2]-lambdas[1],4)\n",
    "print(\"левое =\", dlambda_l,\", правое =\", dlambda_r)"
   ]
  },
  {
   "cell_type": "markdown",
   "id": "9ffcf3cd-e54d-47d0-a020-2621a4806c26",
   "metadata": {},
   "source": [
    "Расчёт среднего экспериментального значения Лоренцевого смещения:"
   ]
  },
  {
   "cell_type": "code",
   "execution_count": 138,
   "id": "d18e16d5-aad8-48ff-ac33-59656a811535",
   "metadata": {
    "tags": []
   },
   "outputs": [
    {
     "name": "stdout",
     "output_type": "stream",
     "text": [
      "0.0111\n"
     ]
    }
   ],
   "source": [
    "dlambda_e = (dlambda_l+dlambda_r)/2\n",
    "print(dlambda_e)"
   ]
  },
  {
   "cell_type": "markdown",
   "id": "f41eb9cb-3f93-425c-b0a4-de29410bea65",
   "metadata": {},
   "source": [
    "Расчёт теоретического значения Лоренцевого смещения для $\\lambda_0$:"
   ]
  },
  {
   "cell_type": "code",
   "execution_count": 140,
   "id": "f2137d27-5386-45a5-841a-3928cc0185b9",
   "metadata": {
    "tags": []
   },
   "outputs": [
    {
     "name": "stdout",
     "output_type": "stream",
     "text": [
      "0.015720017529418383\n"
     ]
    }
   ],
   "source": [
    "mb = 927.4*10**(-26)\n",
    "B = 1\n",
    "pi = 3.14\n",
    "c = 3*10**8*10**9\n",
    "h = 1.05*10**(-34)\n",
    "dlambda_t = mb*B/2/pi/c/h*(lambdas[1])**2\n",
    "print(dlambda_t)"
   ]
  },
  {
   "cell_type": "markdown",
   "id": "098a8c4e-d3b8-460d-951e-617887b5e2d6",
   "metadata": {},
   "source": [
    "Разница между экспериментальным и теоретическим значением:"
   ]
  },
  {
   "cell_type": "code",
   "execution_count": 142,
   "id": "47192989-b9fc-41c0-b4c8-12c057273836",
   "metadata": {
    "tags": []
   },
   "outputs": [
    {
     "name": "stdout",
     "output_type": "stream",
     "text": [
      "0.004620017529418383\n"
     ]
    }
   ],
   "source": [
    "print(dlambda_t-dlambda_e)"
   ]
  },
  {
   "cell_type": "markdown",
   "id": "f91df8e4-506b-47b6-b52f-970b3cca89d5",
   "metadata": {},
   "source": [
    "Вычислим экспериментальное значение магнетона бора:"
   ]
  },
  {
   "cell_type": "code",
   "execution_count": 144,
   "id": "88678a87-ebf0-434a-9578-e08dfd74a0a2",
   "metadata": {
    "tags": []
   },
   "outputs": [
    {
     "name": "stdout",
     "output_type": "stream",
     "text": [
      "6.5484278123326414e-24\n"
     ]
    }
   ],
   "source": [
    "mb_e = dlambda_e*2*pi*c*h/B/(lambdas[1]**2)\n",
    "print(mb_e)"
   ]
  },
  {
   "cell_type": "markdown",
   "id": "14a40da6-2ca9-46ed-93d8-416b97a8a840",
   "metadata": {},
   "source": [
    "Экспериментальное значение для удельного заряда электрона:"
   ]
  },
  {
   "cell_type": "code",
   "execution_count": 146,
   "id": "fa3c72a7-389d-4207-89bd-489c945bc6dc",
   "metadata": {
    "tags": []
   },
   "outputs": [
    {
     "name": "stdout",
     "output_type": "stream",
     "text": [
      "124731958330.14555\n"
     ]
    }
   ],
   "source": [
    "e_y = 2*mb_e/h\n",
    "print(e_y)"
   ]
  },
  {
   "cell_type": "markdown",
   "id": "eb8d50c8-9f80-460c-b7f0-3dec81ae498d",
   "metadata": {},
   "source": [
    "Сравним эти значения (процент отхождения от табличной величины):"
   ]
  },
  {
   "cell_type": "code",
   "execution_count": 148,
   "id": "c5d69d47-4a22-46ae-a044-31f027ba615c",
   "metadata": {
    "tags": []
   },
   "outputs": [
    {
     "name": "stdout",
     "output_type": "stream",
     "text": [
      "Магнетон бора: 29.389391715196883\n",
      "Удельный заряд: 29.12956913059912\n"
     ]
    }
   ],
   "source": [
    "print(\"Магнетон бора:\", (mb-mb_e)/mb*100)\n",
    "print(\"Удельный заряд:\", (1.76*10**11-e_y)/(1.76*10**11)*100)"
   ]
  },
  {
   "cell_type": "markdown",
   "id": "81079374-c45b-43e1-98a6-e1e4fa3d39d7",
   "metadata": {},
   "source": [
    "## Сложный эффект Зеемана"
   ]
  },
  {
   "cell_type": "markdown",
   "id": "7f764c2b-9905-48c4-b8ce-4823753880ba",
   "metadata": {},
   "source": [
    "Считываем данные из файла:"
   ]
  },
  {
   "cell_type": "code",
   "execution_count": 151,
   "id": "08e44704-06ab-4b3d-acf0-0f9a606efc10",
   "metadata": {
    "tags": []
   },
   "outputs": [],
   "source": [
    "table = file_read(\"изм2.csv\")\n",
    "table = np.array(table)\n",
    "table = table.transpose()\n",
    "table = table.tolist()"
   ]
  },
  {
   "cell_type": "markdown",
   "id": "ddf7bdec-81f8-481c-b557-9fc4953dba26",
   "metadata": {},
   "source": [
    "Поиск $\\lambda_0$, $\\lambda_i$, $\\lambda_{-i}$:"
   ]
  },
  {
   "cell_type": "code",
   "execution_count": 153,
   "id": "3f5379c8-fb07-4f2c-b7b5-f316c0df5dfb",
   "metadata": {
    "tags": []
   },
   "outputs": [
    {
     "name": "stdout",
     "output_type": "stream",
     "text": [
      "[546.043, 546.051, 546.058, 546.066, 546.074, 546.082, 546.09, 546.097, 546.105, 546.118, 546.1185]\n"
     ]
    }
   ],
   "source": [
    "lambdas = []\n",
    "for i in range(len(table[0])):\n",
    "    if(i < 10):\n",
    "        f = all([table[1][i] >= x for x in table[1][:i+10]])\n",
    "    elif(i > len(table[0])-10):\n",
    "        f = all([table[1][i] >= x for x in table[1][i-10:]])\n",
    "    else:\n",
    "        f = all([table[1][i] >= x for x in table[1][i-10:i+10]])\n",
    "    if(f == True): lambdas.append(table[0][i])\n",
    "lambdas = list(set(lambdas))\n",
    "lambdas.sort()\n",
    "print(lambdas)"
   ]
  },
  {
   "cell_type": "code",
   "execution_count": 154,
   "id": "ef6f7735-0170-402a-96e0-19245086d141",
   "metadata": {
    "tags": []
   },
   "outputs": [
    {
     "data": {
      "text/plain": [
       "[<matplotlib.lines.Line2D at 0x17eefd3d250>]"
      ]
     },
     "execution_count": 154,
     "metadata": {},
     "output_type": "execute_result"
    },
    {
     "data": {
      "image/png": "[encoded data removed]",
      "text/plain": [
       "<Figure size 640x480 with 1 Axes>"
      ]
     },
     "metadata": {},
     "output_type": "display_data"
    }
   ],
   "source": [
    "plt.figure()\n",
    "plt.plot(table[0], table[1])"
   ]
  },
  {
   "cell_type": "markdown",
   "id": "98488f45-b415-4918-b053-eeecb4a43570",
   "metadata": {},
   "source": [
    "Из графика видно, что локальных максимумов 9, но значений $\\lambda$ на 2 больше. Сравнивая их с графиком, можно заметить, что последние 2 значения ошибочные и лишние."
   ]
  },
  {
   "cell_type": "code",
   "execution_count": 156,
   "id": "ee4b2ed6-c242-4713-8c6b-cc85f99f42d7",
   "metadata": {
    "tags": []
   },
   "outputs": [
    {
     "name": "stdout",
     "output_type": "stream",
     "text": [
      "[546.043, 546.051, 546.058, 546.066, 546.074, 546.082, 546.09, 546.097, 546.105]\n"
     ]
    }
   ],
   "source": [
    "lambdas = lambdas[:-2]\n",
    "print(lambdas)"
   ]
  },
  {
   "cell_type": "markdown",
   "id": "279d2ea4-3a70-4b89-9a0b-ef52a62bc2ad",
   "metadata": {},
   "source": [
    "Расчёт теоретического значения Лоренцевого смещения для $\\lambda_0$:"
   ]
  },
  {
   "cell_type": "code",
   "execution_count": 158,
   "id": "9614ac49-eb02-4643-9409-14bdfd5db047",
   "metadata": {
    "tags": []
   },
   "outputs": [
    {
     "name": "stdout",
     "output_type": "stream",
     "text": [
      "0.013979765686868989\n"
     ]
    }
   ],
   "source": [
    "b = 0.7\n",
    "dlambda_t = mb*B/2/pi/c/h*(lambdas[4])**2\n",
    "print(dlambda_t)"
   ]
  },
  {
   "cell_type": "markdown",
   "id": "54abeef8-e528-4608-a06d-1756cc4bbe13",
   "metadata": {
    "tags": []
   },
   "source": [
    "Расчёт теоретического значения смещения всех 9 компонент:"
   ]
  },
  {
   "cell_type": "code",
   "execution_count": 160,
   "id": "90d9aff6-3ae3-485a-9f0f-ad18dca5083f",
   "metadata": {
    "tags": []
   },
   "outputs": [
    {
     "name": "stdout",
     "output_type": "stream",
     "text": [
      "m_2 = 1 ; m_1 = 0 ; 0.027959531373737977\n",
      "m_2 = 0 ; m_1 = -1 ; 0.020969648530303482\n",
      "m_2 = -1 ; m_1 = -2 ; 0.013979765686868989\n",
      "m_2 = 1 ; m_1 = 1 ; 0.006989882843434494\n",
      "m_2 = 0 ; m_1 = 0 ; 0.0\n",
      "m_2 = -1 ; m_1 = -1 ; -0.006989882843434494\n",
      "m_2 = 1 ; m_1 = 2 ; -0.013979765686868989\n",
      "m_2 = 0 ; m_1 = 1 ; -0.020969648530303482\n",
      "m_2 = -1 ; m_1 = 0 ; -0.027959531373737977\n"
     ]
    }
   ],
   "source": [
    "dl_t = []\n",
    "for i in [-1,0,1]:\n",
    "    for j in [1,0,-1]:\n",
    "        print(\"m_2 =\", j, \"; m_1 =\", j+i,\";\", (j*2-(i+j)*3/2)*dlambda_t)\n",
    "        dl_t.append((j*2-(i+j)*3/2)*dlambda_t)"
   ]
  },
  {
   "cell_type": "markdown",
   "id": "60128bc4-d068-4be1-a7b6-0e959b37e8bd",
   "metadata": {
    "tags": []
   },
   "source": [
    "Расчёт экпериментального значения смещения:"
   ]
  },
  {
   "cell_type": "code",
   "execution_count": 162,
   "id": "c90ed233-56aa-4297-ac41-1ecf936378fd",
   "metadata": {
    "tags": []
   },
   "outputs": [
    {
     "name": "stdout",
     "output_type": "stream",
     "text": [
      "0.03099999999994907\n",
      "0.02299999999991087\n",
      "0.01599999999996271\n",
      "0.007999999999924512\n",
      "0.0\n",
      "-0.008000000000038199\n",
      "-0.016000000000076398\n",
      "-0.023000000000024556\n",
      "-0.031000000000062755\n"
     ]
    }
   ],
   "source": [
    "dl_e = []\n",
    "for i in range(len(lambdas)):\n",
    "    print(lambdas[4]-lambdas[i])\n",
    "    dl_e.append(lambdas[4]-lambdas[i])"
   ]
  },
  {
   "cell_type": "markdown",
   "id": "39004c35-f506-464c-afab-4908eb52572e",
   "metadata": {},
   "source": [
    "Вычислим экспериментальное значение магнетона бора:"
   ]
  },
  {
   "cell_type": "code",
   "execution_count": 164,
   "id": "ebd8434d-debe-4e50-b4a2-1deffbbfdc69",
   "metadata": {
    "tags": []
   },
   "outputs": [
    {
     "name": "stdout",
     "output_type": "stream",
     "text": [
      "[2.0567343590331546e-23, 1.5259194894642118e-23, 1.0614819949442671e-23, 5.3072544661232e-24]\n"
     ]
    }
   ],
   "source": [
    "list_mb_e = []\n",
    "for i in [0,1,2,3]:\n",
    "    list_mb_e.append(dl_e[i]*2*pi*c*h/B/(lambdas[i]**2))\n",
    "print(list_mb_e)"
   ]
  },
  {
   "cell_type": "markdown",
   "id": "d2850657-e640-49b3-b452-3eadced2e8ee",
   "metadata": {},
   "source": [
    "Экспериментальное значение для удельного заряда электрона:"
   ]
  },
  {
   "cell_type": "code",
   "execution_count": 166,
   "id": "b3b4f085-ddf8-4184-83bd-917449f7f64a",
   "metadata": {
    "tags": []
   },
   "outputs": [
    {
     "name": "stdout",
     "output_type": "stream",
     "text": [
      "[391758925530.1247, 290651331326.51654, 202187046656.05087, 101090561259.48952]\n"
     ]
    }
   ],
   "source": [
    "list_e_y = []\n",
    "for i in range(len(list_mb_e)):\n",
    "    list_e_y.append(2*list_mb_e[i]/h)\n",
    "print(list_e_y)"
   ]
  },
  {
   "cell_type": "markdown",
   "id": "8b8a4c65-e3e7-4ad2-ab11-30a5a8e10a10",
   "metadata": {},
   "source": [
    "Сравним эти значения (процент отхождения от табличной величины):"
   ]
  },
  {
   "cell_type": "code",
   "execution_count": 168,
   "id": "d07d92ca-601e-490b-a6d9-2c0de1abb68a",
   "metadata": {
    "tags": []
   },
   "outputs": [
    {
     "name": "stdout",
     "output_type": "stream",
     "text": [
      "Магнетон бора:\n",
      "121.774246175669\n",
      "64.53736138281342\n",
      "14.45783857496949\n",
      "42.772757535872344\n",
      "Удельный заряд:\n",
      "122.59029859666175\n",
      "65.14280189006621\n",
      "14.879003781847086\n",
      "42.562181102562775\n"
     ]
    }
   ],
   "source": [
    "print(\"Магнетон бора:\")\n",
    "for i in range(len(list_mb_e)):\n",
    "    print(abs(mb - list_mb_e[i])/mb*100)\n",
    "print(\"Удельный заряд:\")\n",
    "for i in range(len(list_mb_e)):\n",
    "    print(abs(1.76*10**11-list_e_y[i])/(1.76*10**11)*100)"
   ]
  }
 ],
 "metadata": {
  "kernelspec": {
   "display_name": "Python 3 (ipykernel)",
   "language": "python",
   "name": "python3"
  },
  "language_info": {
   "codemirror_mode": {
    "name": "ipython",
    "version": 3
   },
   "file_extension": ".py",
   "mimetype": "text/x-python",
   "name": "python",
   "nbconvert_exporter": "python",
   "pygments_lexer": "ipython3",
   "version": "3.11.7"
  }
 },
 "nbformat": 4,
 "nbformat_minor": 5
}
